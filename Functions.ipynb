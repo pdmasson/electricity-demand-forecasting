{
 "cells": [
  {
   "cell_type": "code",
   "execution_count": 1,
   "id": "9fe949d5-89d2-49a5-a2b7-a125fd920255",
   "metadata": {},
   "outputs": [],
   "source": [
    "import numpy as np\n",
    "import pandas as pd\n",
    "import matplotlib.pyplot as plt\n",
    "\n",
    "from sklearn.preprocessing import StandardScaler"
   ]
  },
  {
   "cell_type": "code",
   "execution_count": 2,
   "id": "e770aca9-b5f0-45ca-8ce9-36addb554f0c",
   "metadata": {},
   "outputs": [],
   "source": [
    "def format_data(df):\n",
    "    \"\"\"\n",
    "    Formats the dataframe, removes duplicates and fills NaN values.\n",
    "    \"\"\"\n",
    "    df.drop('Day-ahead Total Load Forecast [MW] - BZN|NL', axis=1, inplace=True)\n",
    "    df.columns = ['Time', 'Load']\n",
    "    df[['Date', 'End']] = df['Time'].str.split(' - ', expand=True)\n",
    "    df.set_index(pd.to_datetime(df['Date'], format='%d.%m.%Y %H:%M'), inplace=True)\n",
    "    df.drop(['Time', 'Date', 'End'], axis=1, inplace=True)\n",
    "    df.sort_index(inplace=True)\n",
    "\n",
    "    df = df[~df.index.duplicated(keep='first')].copy()\n",
    "    df.ffill(inplace=True)\n",
    "\n",
    "    return df"
   ]
  },
  {
   "cell_type": "code",
   "execution_count": 3,
   "id": "2b796d4c-2f1e-491e-8545-b238d6656710",
   "metadata": {},
   "outputs": [],
   "source": [
    "def add_weekday_holiday(df, holidays, add_weekday=False):\n",
    "    \"\"\"\n",
    "    Adds holiday days to a DataFrame. If specified, adds weekdays as well.\n",
    "    \"\"\"\n",
    "    if add_weekday:\n",
    "        df['Weekday'] = df.index.weekday\n",
    "        df = pd.get_dummies(df, columns=['Weekday'], drop_first=True)\n",
    "        df.rename(columns={old_name: new_name for old_name, new_name in zip(\n",
    "            [column for column in df.columns if 'Weekday' in column],\n",
    "            ['Tue', 'Wed', 'Thu', 'Fri', 'Sat', 'Sun'])}, inplace=True)\n",
    "\n",
    "        for col in ['Tue', 'Wed', 'Thu', 'Fri', 'Sat', 'Sun']:\n",
    "            df[col] = df[col].astype(float)\n",
    "    \n",
    "    df['Holiday'] = pd.to_datetime(df.index.date).isin(pd.to_datetime(holidays)).astype(float)\n",
    "    \n",
    "    return df"
   ]
  },
  {
   "cell_type": "code",
   "execution_count": 4,
   "id": "31474d90-a1c6-43ac-ae3a-332a9ebbf666",
   "metadata": {},
   "outputs": [],
   "source": [
    "def plot_results(y_true, y_pred, figsize=(12, 6), title=None):\n",
    "    \"\"\"\n",
    "    Plots y_true vs y_pred, and delta graph.\n",
    "    \"\"\"\n",
    "    fig, ax = plt.subplots(2, 1, figsize=figsize, sharex=True)\n",
    "    y_true.plot(ax=ax[0], label='Actual')\n",
    "    y_pred.plot(ax=ax[0], label='Predicted')\n",
    "    ax[0].legend()\n",
    "    ax[0].set_ylabel('Load (MW)')\n",
    "    ax[0].grid()\n",
    "\n",
    "    ax[0].set_ylim(y_true.min()//1000*1000, (y_true.max()//1000+1)*1000)\n",
    "    ax[0].set_title(title)\n",
    "\n",
    "    delta = y_pred - y_true\n",
    "    delta.plot(ax=ax[1])\n",
    "    ax[1].axhline(0)\n",
    "    ax[1].set_ylabel('Delta (MW)')\n",
    "    ax[1].grid()\n",
    "    ax[1].set_ylim(delta.min()//1000*1000, (delta.max()//1000+1)*1000)\n",
    "    plt.xlabel(None)\n",
    "    print(f'MAE: {mean_absolute_error(y_true, y_pred):.2f}')"
   ]
  },
  {
   "cell_type": "code",
   "execution_count": 5,
   "id": "99273960-3b3e-4ac0-a6b8-ac4f72f4ce11",
   "metadata": {},
   "outputs": [],
   "source": [
    "def clean_anomalies(df, ref_column='Load'):\n",
    "    \"\"\"\n",
    "    Cleans DataFrame by filtering on values with a >20% decrease from the prior 15-min value,\n",
    "    and setting to the prior value.\n",
    "    \"\"\"\n",
    "    df_copy = df.copy()\n",
    "    \n",
    "    indexes = df_copy[df_copy[ref_column].rolling(window=2).apply(lambda x: (x.iloc[1] - x.iloc[0]) / x.iloc[0]) < -0.2].index\n",
    "    for ind in indexes:\n",
    "        df_copy.loc[ind, ref_column] = df_copy.loc[ind - pd.Timedelta('00:15:00'), ref_column]\n",
    "\n",
    "    return df_copy"
   ]
  }
 ],
 "metadata": {
  "kernelspec": {
   "display_name": "Python 3 (ipykernel)",
   "language": "python",
   "name": "python3"
  },
  "language_info": {
   "codemirror_mode": {
    "name": "ipython",
    "version": 3
   },
   "file_extension": ".py",
   "mimetype": "text/x-python",
   "name": "python",
   "nbconvert_exporter": "python",
   "pygments_lexer": "ipython3",
   "version": "3.12.5"
  }
 },
 "nbformat": 4,
 "nbformat_minor": 5
}
